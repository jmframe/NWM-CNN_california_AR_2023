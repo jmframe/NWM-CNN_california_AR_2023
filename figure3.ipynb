{
 "cells": [
  {
   "cell_type": "code",
   "execution_count": 1,
   "metadata": {},
   "outputs": [],
   "source": [
    "import matplotlib as mpl\n",
    "from matplotlib import pyplot as plt\n",
    "import numpy as np\n",
    "import pandas as pd\n",
    "import matplotlib.patches as mpatches"
   ]
  },
  {
   "cell_type": "code",
   "execution_count": 2,
   "metadata": {},
   "outputs": [],
   "source": [
    "#### User needs to modify this line to correspond to their local data, which can be downloaded from Hydroshare:\n",
    "#### http://www.hydroshare.org/resource/dbf8e4c2a39a4c228db867b04f9c21ed\n",
    "LOC_DATA_DIR = \"../2023_nwm_cnn_california/\"\n",
    "\n",
    "with open(f\"{LOC_DATA_DIR}csv_files/sac_county_annual_water_year_max_ensemble_water_area_km2.csv\") as f:\n",
    "    df_annualmax = pd.read_csv(f)\n",
    "with open(f\"{LOC_DATA_DIR}csv_files/ncdc_sac_damage.csv\") as f:\n",
    "    df_sac_damage = pd.read_csv(f)"
   ]
  },
  {
   "cell_type": "code",
   "execution_count": 3,
   "metadata": {},
   "outputs": [
    {
     "name": "stdout",
     "output_type": "stream",
     "text": [
      "median_max_water_area:  1.80\n"
     ]
    }
   ],
   "source": [
    "# Calculate the median of the maximum water area from the df_annualmax dataframe\n",
    "median_max_water_area = df_annualmax['ensemble_water_area_km2_anomaly_pct'].median()\n",
    "print(f\"median_max_water_area: {median_max_water_area: .2f}\")"
   ]
  },
  {
   "cell_type": "code",
   "execution_count": 4,
   "metadata": {},
   "outputs": [],
   "source": [
    "mpl.style.use('ggplot')\n",
    "plt.rcParams.update({'font.size': 10})\n",
    "\n",
    "fig, ax = plt.subplots(figsize=(5.5, 4))\n",
    "\n",
    "# Create patches for the legend\n",
    "dark_blue_patch = mpatches.Patch(color='darkblue', label='Damage > 0')\n",
    "light_blue_patch = mpatches.Patch(color='lightblue', label='Damage = 0')\n",
    "grey_patch = mpatches.Patch(color='grey', label='No corresponding value')\n",
    "\n",
    "# Iterate over the rows in df_annualmax to set bar colors\n",
    "for index, row in df_annualmax.iterrows():\n",
    "    year = row['water_year']\n",
    "    color = 'grey'  # Default color if no corresponding value\n",
    "\n",
    "    # Check if the year exists in df_sac_damage\n",
    "    if year in df_sac_damage.year.values:\n",
    "        damage_value = df_sac_damage[df_sac_damage.year == year].damage.iloc[0]\n",
    "        if damage_value > 0:\n",
    "            color = 'darkblue'  # Dark blue for damage > 0\n",
    "        elif damage_value == 0:\n",
    "            color = 'lightblue'  # Light blue/grey for damage = 0\n",
    "\n",
    "    # Plot each bar individually with the determined color\n",
    "    ax.bar(year, row['ensemble_water_area_km2_anomaly_pct'], color=color)\n",
    "\n",
    "ax.xaxis.set_ticks(np.arange(1980, 2023, 2))\n",
    "ax.tick_params(axis='both', which='major', labelsize=10)\n",
    "ax.spines['bottom'].set_visible(True)\n",
    "\n",
    "ax.set_xlim([1978, 2024])\n",
    "ax.set_xticks(list(range(1978, 2024, 5)))\n",
    "ax.set_xlabel(\"Year\")\n",
    "ax.set_ylabel(\"Anomalous Surface Water Area\\n(Percent)\", color=\"black\")  # Set label color to black\n",
    "plt.xticks(rotation=45, ha='right')\n",
    "\n",
    "# Add a horizontal dashed line at the median max water area\n",
    "plt.hlines(y=median_max_water_area, xmin=1978, xmax=2024, colors='black', linestyles='dashed')\n",
    "\n",
    "# Place text along the horizontal line\n",
    "ax.text(1986, median_max_water_area, ' Median', verticalalignment='bottom', color='black')\n",
    "\n",
    "# Create a secondary y-axis\n",
    "ax2 = ax.twinx()\n",
    "\n",
    "# Plot the \"damage\" values as larger circles for each year\n",
    "damage_plot, = ax2.plot(df_sac_damage.year, df_sac_damage.damage, color=\"red\", marker=\"o\", linestyle='None', markersize=5, label='Damage')\n",
    "\n",
    "# Set the secondary y-axis to log scale\n",
    "ax2.set_yscale('log')\n",
    "\n",
    "ax2.set_ylabel(\"Damage (USD)\", color=\"black\")\n",
    "ax2.tick_params(axis='y', labelcolor=\"black\")\n",
    "\n",
    "ax2.grid(False)\n",
    "\n",
    "plt.legend(handles=[dark_blue_patch, light_blue_patch, grey_patch, damage_plot], loc='upper center', bbox_to_anchor=(0.5, 1.3), ncol=2)\n",
    "\n",
    "plt.tight_layout()\n",
    "\n",
    "plt.savefig(\"./figures/retrospective_with_damage.png\", dpi=600)\n",
    "#plt.show()\n",
    "plt.close()"
   ]
  },
  {
   "cell_type": "code",
   "execution_count": 5,
   "metadata": {},
   "outputs": [
    {
     "name": "stdout",
     "output_type": "stream",
     "text": [
      "Percentage of maximum water area estimates above the median 1.80% when damage is above zero: 90.0%\n"
     ]
    }
   ],
   "source": [
    "# Calculate the median of the maximum water area from the df_annualmax dataframe\n",
    "median_max_water_area = df_annualmax['ensemble_water_area_km2_anomaly_pct'].median()\n",
    "\n",
    "# Merge the annual max water area dataframe with the damage dataframe on the 'water_year' column\n",
    "merged_df = df_annualmax.merge(df_sac_damage, left_on='water_year', right_on='year', how='inner')\n",
    "\n",
    "# Now, filter for entries where damage is above zero\n",
    "filtered_df = merged_df[merged_df['damage'] > 0]\n",
    "filtered_df_NoDamage = merged_df[merged_df['damage'] <= 0]\n",
    "\n",
    "# From the filtered dataframe, calculate the percentage of records where the max water area is above the median\n",
    "# This is done by first checking if the water area is above the median for each row, then calculating the mean of this boolean series\n",
    "percentage_above_median = (filtered_df['ensemble_water_area_km2_anomaly_pct'] > median_max_water_area).mean() * 100\n",
    "\n",
    "print(f\"Percentage of maximum water area estimates above the median {median_max_water_area:.2f}% when damage is above zero: {percentage_above_median}%\")"
   ]
  },
  {
   "cell_type": "code",
   "execution_count": 6,
   "metadata": {},
   "outputs": [
    {
     "name": "stdout",
     "output_type": "stream",
     "text": [
      "Number of years where the maximum water area is above the median and corresponds to a year with flood damages: 9\n"
     ]
    }
   ],
   "source": [
    "# From the filtered dataframe, find the instances where the max water area is above the median\n",
    "years_above_median_with_damage = filtered_df[filtered_df['ensemble_water_area_km2_anomaly_pct'] > median_max_water_area]\n",
    "\n",
    "# Count how many years satisfy the criteria\n",
    "number_of_years = years_above_median_with_damage.shape[0]\n",
    "\n",
    "print(f\"Number of years where the maximum water area is above the median and corresponds to a year with flood damages: {number_of_years}\")\n"
   ]
  },
  {
   "cell_type": "code",
   "execution_count": 7,
   "metadata": {},
   "outputs": [
    {
     "name": "stdout",
     "output_type": "stream",
     "text": [
      "Number of years where the maximum water area is above the median and corresponds to a year withOUT flood damages: 4\n"
     ]
    }
   ],
   "source": [
    "# From the filtered dataframe, find the instances where the max water area is above the median\n",
    "years_above_median_withOUT_damage = filtered_df_NoDamage[filtered_df_NoDamage['ensemble_water_area_km2_anomaly_pct'] > median_max_water_area]\n",
    "\n",
    "# Count how many years satisfy the criteria\n",
    "number_of_years = years_above_median_withOUT_damage.shape[0]\n",
    "\n",
    "print(f\"Number of years where the maximum water area is above the median and corresponds to a year withOUT flood damages: {number_of_years}\")\n"
   ]
  },
  {
   "cell_type": "code",
   "execution_count": null,
   "metadata": {},
   "outputs": [],
   "source": []
  }
 ],
 "metadata": {
  "kernelspec": {
   "display_name": "Python 3 (ipykernel)",
   "language": "python",
   "name": "python3"
  },
  "language_info": {
   "codemirror_mode": {
    "name": "ipython",
    "version": 3
   },
   "file_extension": ".py",
   "mimetype": "text/x-python",
   "name": "python",
   "nbconvert_exporter": "python",
   "pygments_lexer": "ipython3",
   "version": "3.8.18"
  }
 },
 "nbformat": 4,
 "nbformat_minor": 2
}

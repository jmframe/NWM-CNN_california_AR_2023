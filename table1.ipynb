{
 "cells": [
  {
   "cell_type": "code",
   "execution_count": 1,
   "metadata": {},
   "outputs": [],
   "source": [
    "import numpy as np\n",
    "import rasterio\n",
    "from rasterio.warp import calculate_default_transform, reproject\n",
    "from resample_tools import warp_image\n",
    "from rasterio.warp import Resampling\n",
    "import matplotlib.pyplot as plt\n",
    "import matplotlib.lines as mlines\n",
    "LOC_DATA_DIR = \"/mnt/d/2023_nwm_cnn_california/\"\n",
    "STATS_DIR = f\"{LOC_DATA_DIR}images_for_sacramento_stats/\""
   ]
  },
  {
   "cell_type": "markdown",
   "metadata": {},
   "source": [
    "# Statistics for the NWM-CNN map compared against HAND\n",
    "We have five files to deal with:\n",
    "  - CA_S1_20230106_20230114_masked_clip_buffer. This file is the \"ground truth\" that we'll use to compare the model performance. \n",
    "  - GSW_binary_gt30. This is the global surface water that we want to ignore in our calculations.\n",
    "  - NWM-HAND_180201_20230106-13_max_depth. This is the HAND flood map we are using as a baseline for our comparison.\n",
    "  - s2_max_extent_20221101_20221215. This is a pre-event surface water extent map.\n",
    "  - NWM-CNN_20230110_clipped_18020104. This is our model flood map."
   ]
  },
  {
   "cell_type": "markdown",
   "metadata": {},
   "source": [
    "# Make CA_S1 match the NWM-CNN extent, projection and resolution\n",
    "In order to calculate an RMSE we need to have the rasters match.  \n",
    "The CA_S1 map is binary, so we'll want to resample it such that the resulting map has values between 0 and 100, just like the V2 output. "
   ]
  },
  {
   "cell_type": "code",
   "execution_count": 2,
   "metadata": {},
   "outputs": [],
   "source": [
    "# Paths for your files\n",
    "binary_raster_path = f\"{STATS_DIR}CA_S1_20230106_20230114_masked_clip_buffer.tif\"\n",
    "target_raster_path = f\"{STATS_DIR}NWM-CNN_20230106_20230114.tif\"\n",
    "output_path = f\"{STATS_DIR}CA_S1.tif\"\n",
    "\n",
    "# Load target raster's properties\n",
    "with rasterio.open(target_raster_path) as target:\n",
    "    target_transform = target.transform\n",
    "    target_crs = target.crs\n",
    "    target_shape = target.shape\n",
    "\n",
    "# Load binary raster\n",
    "with rasterio.open(binary_raster_path) as src:\n",
    "\n",
    "    # Calculate the transformation between source and target\n",
    "    transform, width, height = calculate_default_transform(\n",
    "        src.crs, target_crs, src.width, src.height, *src.bounds,\n",
    "        dst_width=target_shape[1], dst_height=target_shape[0]\n",
    "    )\n",
    "\n",
    "    # Create a new array with target dimensions to store results\n",
    "    resampled_array = np.empty(shape=target_shape, dtype=np.float32)\n",
    "\n",
    "    # Resample the binary raster using the average technique\n",
    "    reproject(\n",
    "        source=rasterio.band(src, 1),\n",
    "        destination=resampled_array,\n",
    "        src_transform=src.transform,\n",
    "        src_crs=src.crs,\n",
    "        dst_transform=target_transform,\n",
    "        dst_crs=target_crs,\n",
    "        resampling=Resampling.average\n",
    "    )\n",
    "\n",
    "    # Adjust values to represent percentage\n",
    "    resampled_array = resampled_array * 100  # assuming original True values are 1, else adjust this factor\n",
    "\n",
    "    # Save the result to a new raster\n",
    "    with rasterio.open(output_path, 'w', driver='GTiff', height=target_shape[0], \n",
    "                       width=target_shape[1], count=1, dtype=np.float32, \n",
    "                       crs=target_crs, transform=target_transform) as dest:\n",
    "        dest.write(resampled_array, 1)\n"
   ]
  },
  {
   "cell_type": "markdown",
   "metadata": {},
   "source": [
    "# Calculate the RMSE of the two\n",
    "We'll exclude some cells later, this is just for reference. "
   ]
  },
  {
   "cell_type": "code",
   "execution_count": 3,
   "metadata": {},
   "outputs": [],
   "source": [
    "def compute_rmse_all_pixels(raster1_path, raster2_path):\n",
    "    \"\"\"Calculate RMSE between two raster datasets.\"\"\"\n",
    "    \n",
    "    # Open the two raster datasets\n",
    "    with rasterio.open(raster1_path) as raster1, rasterio.open(raster2_path) as raster2:\n",
    "        \n",
    "        # Read the rasters as numpy arrays\n",
    "        raster1_array = raster1.read(1)\n",
    "        raster2_array = raster2.read(1)\n",
    "        \n",
    "        # Calculate the squared difference between the two arrays\n",
    "        squared_diff = (raster1_array - raster2_array) ** 2\n",
    "        \n",
    "        # Calculate RMSE\n",
    "        rmse = np.sqrt(np.mean(squared_diff))\n",
    "        \n",
    "        return rmse\n",
    "\n"
   ]
  },
  {
   "cell_type": "markdown",
   "metadata": {},
   "source": [
    "# Make GSW match the extent and resolution of the NWM-CNN and CA_S1\n",
    "This map is binary, and we want a resulting binary map at the end"
   ]
  },
  {
   "cell_type": "code",
   "execution_count": 4,
   "metadata": {},
   "outputs": [],
   "source": [
    "def resample_binary_to_match(source_path, target_path, output_path):\n",
    "    \"\"\"Resample a binary raster to match the extent, projection, and resolution of another raster.\"\"\"\n",
    "    \n",
    "    with rasterio.open(source_path) as src, rasterio.open(target_path) as target:\n",
    "        # Copy and update the metadata from the target\n",
    "        metadata = target.meta.copy()\n",
    "        \n",
    "        # Update data type to be int16 for the binary output\n",
    "        metadata['dtype'] = 'int16'\n",
    "        \n",
    "        # Create an empty array with the shape of the target raster\n",
    "        destination = np.empty_like(target.read(1), dtype='int16')\n",
    "\n",
    "        # Perform the resampling\n",
    "        reproject(\n",
    "            source=src.read(1),\n",
    "            destination=destination,\n",
    "            src_transform=src.transform,\n",
    "            src_crs=src.crs,\n",
    "            dst_transform=target.transform,\n",
    "            dst_crs=target.crs,\n",
    "            resampling=Resampling.average\n",
    "        )\n",
    "\n",
    "        # Threshold the resampled data to produce a binary raster\n",
    "        # You can adjust the threshold if needed\n",
    "        destination[destination >= 0.5] = 1\n",
    "        destination[destination < 0.5] = 0\n",
    "\n",
    "        # Save the result to a new file\n",
    "        with rasterio.open(output_path, 'w', **metadata) as dest:\n",
    "            dest.write(destination, 1)\n",
    "\n",
    "# Example usage:\n",
    "source_binary_path = f\"{STATS_DIR}GSW_binary_gt30.tif\"\n",
    "target_raster_path = f\"{STATS_DIR}NWM-CNN_20230106_20230114.tif\"\n",
    "output_path = f\"{STATS_DIR}GSW.tif\"\n",
    "resample_binary_to_match(source_binary_path, target_raster_path, output_path)\n",
    "source_binary_path = f\"{STATS_DIR}s2_max_extent_20221101_20221215.tif\"\n",
    "target_raster_path = f\"{STATS_DIR}NWM-CNN_20230106_20230114.tif\"\n",
    "output_path = f\"{STATS_DIR}s2_pre_event.tif\"\n",
    "resample_binary_to_match(source_binary_path, target_raster_path, output_path)"
   ]
  },
  {
   "cell_type": "markdown",
   "metadata": {},
   "source": [
    "# Calculate the RMSE of NWM-CNN ignoring permanent, or pre-event water"
   ]
  },
  {
   "cell_type": "code",
   "execution_count": 5,
   "metadata": {},
   "outputs": [],
   "source": [
    "def compute_rmse_ignoring_pre_event_water(primary_raster1_path, primary_raster2_path, mask_raster1_path, mask_raster2_path):\n",
    "    \"\"\"Compute RMSE between two rasters while ignoring pixels that have GSW>30 or pre-event water\"\"\"\n",
    "\n",
    "    with rasterio.open(primary_raster1_path) as primary_raster1, \\\n",
    "         rasterio.open(primary_raster2_path) as primary_raster2, \\\n",
    "         rasterio.open(mask_raster1_path) as mask_raster1, \\\n",
    "         rasterio.open(mask_raster2_path) as mask_raster2:\n",
    "        \n",
    "        # Read the primary raster data\n",
    "        data1 = primary_raster1.read(1)\n",
    "        data2 = primary_raster2.read(1)\n",
    "        \n",
    "        # Read the mask raster data\n",
    "        mask_data1 = mask_raster1.read(1)\n",
    "        mask_data2 = mask_raster2.read(1)\n",
    "        \n",
    "        # Create a combined mask where either of the mask rasters has a pixel value of 1\n",
    "        combined_mask = (mask_data1 == 1) | (mask_data2 == 1)\n",
    "        \n",
    "        # Use the mask to extract the primary raster data values not flagged by the mask\n",
    "        data1_masked = data1[~combined_mask]\n",
    "        data2_masked = data2[~combined_mask]\n",
    "        \n",
    "        # Compute RMSE\n",
    "        rmse = np.sqrt(np.mean((data1_masked - data2_masked) ** 2))\n",
    "        \n",
    "        return rmse\n",
    "\n",
    "# Example usage:\n",
    "primary1_path = f\"{STATS_DIR}CA_S1.tif\"\n",
    "primary2_path = f\"{STATS_DIR}NWM-CNN_20230106_20230114.tif\"\n",
    "mask1_path = f\"{STATS_DIR}GSW.tif\"\n",
    "mask2_path = f\"{STATS_DIR}s2_pre_event.tif\""
   ]
  },
  {
   "cell_type": "code",
   "execution_count": 6,
   "metadata": {},
   "outputs": [],
   "source": [
    "def compute_rmse_ignoring_pre_event_water_and_dry(primary_raster1_path, primary_raster2_path, mask_raster1_path, mask_raster2_path):\n",
    "    \"\"\"Compute RMSE between two rasters while ignoring pixels that have GSW>30 or pre-event water or dry conditions\"\"\"\n",
    "\n",
    "    with rasterio.open(primary_raster1_path) as primary_raster1, \\\n",
    "         rasterio.open(primary_raster2_path) as primary_raster2, \\\n",
    "         rasterio.open(mask_raster1_path) as mask_raster1, \\\n",
    "         rasterio.open(mask_raster2_path) as mask_raster2:\n",
    "        \n",
    "        # Read the primary raster data\n",
    "        data1 = primary_raster1.read(1)\n",
    "        data2 = primary_raster2.read(1)\n",
    "        \n",
    "        # Read the mask raster data\n",
    "        mask_data1 = mask_raster1.read(1)\n",
    "        mask_data2 = mask_raster2.read(1)\n",
    "        \n",
    "        # Create a combined mask where either of the mask rasters has a pixel value of 1\n",
    "        # or where both primary rasters are zero\n",
    "        combined_mask = (mask_data1 == 1) | (mask_data2 == 1) | ((data1 == 0) & (data2 == 0))\n",
    "        \n",
    "        # Use the mask to extract the primary raster data values not flagged by the mask\n",
    "        data1_masked = data1[~combined_mask]\n",
    "        data2_masked = data2[~combined_mask]\n",
    "        \n",
    "        # Compute RMSE\n",
    "        rmse = np.sqrt(np.mean((data1_masked - data2_masked) ** 2))\n",
    "        \n",
    "        return rmse\n",
    "\n",
    "# Example usage:\n",
    "primary1_path = f\"{STATS_DIR}CA_S1.tif\"\n",
    "primary2_path = f\"{STATS_DIR}NWM-CNN_20230106_20230114.tif\"\n",
    "mask1_path = f\"{STATS_DIR}GSW.tif\"\n",
    "mask2_path = f\"{STATS_DIR}s2_pre_event.tif\""
   ]
  },
  {
   "cell_type": "markdown",
   "metadata": {},
   "source": [
    "# Resample HAND\n",
    "Raster called \"HAND_180201_20230106-13_max_depth.tif\" which has values from 0 to inf, and we need to make it match in resolution and extent a raster called \"V2_20230110_clipped_18020104.tif\", which has pixel values from 0 to 100. We need the raster \"HAND_180201_20230106-13_max_depth.tif\" to be resampled such that any pixel value above zero counts towards a percentage of the resampled pixel, such that the final pixel value represents the percentage of original pixels above zero that would be found within the final pixel extent"
   ]
  },
  {
   "cell_type": "code",
   "execution_count": 7,
   "metadata": {},
   "outputs": [
    {
     "name": "stdout",
     "output_type": "stream",
     "text": [
      "Resampled raster saved to: /mnt/d/2023_nwm_cnn_california/images_for_sacramento_stats/NWM-HAND.tif\n"
     ]
    }
   ],
   "source": [
    "def resample_to_match(source_path, target_path, output_path):\n",
    "    \"\"\"Resample source raster to match resolution and extent of the target raster.\"\"\"\n",
    "    \n",
    "    # Open the target raster to get its transform and dimensions\n",
    "    with rasterio.open(target_path) as target:\n",
    "        target_transform = target.transform\n",
    "        target_crs = target.crs\n",
    "        target_width = target.width\n",
    "        target_height = target.height\n",
    "    \n",
    "    # Open the source raster, treat no data values as zeros, and binarize\n",
    "    with rasterio.open(source_path) as src:\n",
    "        nodata_val = src.nodata  # get the no data value\n",
    "        src_data = src.read(1)\n",
    "        \n",
    "        # Treat nodata values as zeros\n",
    "        src_data[np.isnan(src_data)] = 0  # If nodata is represented as NaN\n",
    "        if nodata_val is not None:\n",
    "            src_data[src_data == nodata_val] = 0\n",
    "        \n",
    "        binary_data = np.where(src_data > 0, 1, 0).astype(np.float32)\n",
    "        \n",
    "        # Create an array for the resampled data\n",
    "        resampled_data = np.empty((target_height, target_width), dtype=np.float32)\n",
    "        \n",
    "        # Resample\n",
    "        reproject(\n",
    "            source=binary_data,\n",
    "            destination=resampled_data,\n",
    "            src_transform=src.transform,\n",
    "            src_crs=src.crs,\n",
    "            dst_transform=target_transform,\n",
    "            dst_crs=target_crs,\n",
    "            resampling=Resampling.average\n",
    "        )\n",
    "        \n",
    "        # Convert fraction to percentage\n",
    "        resampled_data *= 100\n",
    "\n",
    "    # Write out the resampled data\n",
    "    with rasterio.open(output_path, 'w', driver='GTiff', width=target_width, height=target_height, \n",
    "                       count=1, dtype=np.float32, crs=target_crs, transform=target_transform) as dst:\n",
    "        dst.write(resampled_data, 1)\n",
    "\n",
    "    return output_path\n",
    "\n",
    "# Example usage\n",
    "source_raster = f\"{STATS_DIR}NWM-HAND_180201_20230106-13_max_depth_clip.tif\"\n",
    "target_raster = f\"{STATS_DIR}NWM-CNN_20230106_20230114.tif\"\n",
    "output_path = f\"{STATS_DIR}NWM-HAND.tif\"\n",
    "output = resample_to_match(source_raster, target_raster, output_path)\n",
    "print(f\"Resampled raster saved to: {output}\")\n"
   ]
  },
  {
   "cell_type": "markdown",
   "metadata": {},
   "source": [
    "# Calculate the RMSE of NWM-HAND ignoring permanent, or pre-event water"
   ]
  },
  {
   "cell_type": "code",
   "execution_count": 8,
   "metadata": {},
   "outputs": [
    {
     "name": "stdout",
     "output_type": "stream",
     "text": [
      "RMSE (no pixels held out): 34.98\n",
      "RMSE (ignoring pixels with pre-event water): 27.9742\n",
      "RMSE (ignoring pre event wet conditions and dry conditions during event): 51.4612\n"
     ]
    }
   ],
   "source": [
    "# Example usage:\n",
    "primary1_path = f\"{STATS_DIR}CA_S1.tif\"\n",
    "primary2_path = f\"{STATS_DIR}NWM-HAND.tif\"\n",
    "mask1_path = f\"{STATS_DIR}GSW.tif\"\n",
    "mask2_path = f\"{STATS_DIR}s2_pre_event.tif\"\n",
    "\n",
    "rmse_hand_all = compute_rmse_all_pixels(primary1_path, primary2_path)\n",
    "print(f\"RMSE (no pixels held out): {rmse_hand_all:.2f}\")\n",
    "\n",
    "rmse_hand_pre = compute_rmse_ignoring_pre_event_water(primary1_path, primary2_path, mask1_path, mask2_path)\n",
    "print(f\"RMSE (ignoring pixels with pre-event water): {rmse_hand_pre:.4f}\")\n",
    "\n",
    "rmse_hand_pre_dry = compute_rmse_ignoring_pre_event_water_and_dry(primary1_path, primary2_path, mask1_path, mask2_path)\n",
    "print(f\"RMSE (ignoring pre event wet conditions and dry conditions during event): {rmse_hand_pre_dry:.4f}\")\n"
   ]
  },
  {
   "cell_type": "code",
   "execution_count": 9,
   "metadata": {},
   "outputs": [
    {
     "name": "stdout",
     "output_type": "stream",
     "text": [
      "RMSE (no pixels held out): 25.06\n",
      "RMSE (ignoring pixels with pre-event water): 20.8473\n",
      "RMSE (ignoring pre event wet conditions and dry conditions during event): 21.7278\n"
     ]
    }
   ],
   "source": [
    "primary1_path = f\"{STATS_DIR}CA_S1.tif\"\n",
    "primary2_path = f\"{STATS_DIR}NWM-CNN_20230106_20230114.tif\"\n",
    "mask1_path = f\"{STATS_DIR}GSW.tif\"\n",
    "mask2_path = f\"{STATS_DIR}s2_pre_event.tif\"\n",
    "\n",
    "rmse_v2_all = compute_rmse_all_pixels(primary1_path, primary2_path)\n",
    "print(f\"RMSE (no pixels held out): {rmse_v2_all:.2f}\")\n",
    "\n",
    "rmse_v2_pre = compute_rmse_ignoring_pre_event_water(primary1_path, primary2_path, mask1_path, mask2_path)\n",
    "print(f\"RMSE (ignoring pixels with pre-event water): {rmse_v2_pre:.4f}\")\n",
    "\n",
    "rmse_v2_pre_dry = compute_rmse_ignoring_pre_event_water_and_dry(primary1_path, primary2_path, mask1_path, mask2_path)\n",
    "print(f\"RMSE (ignoring pre event wet conditions and dry conditions during event): {rmse_v2_pre_dry:.4f}\")\n"
   ]
  },
  {
   "cell_type": "code",
   "execution_count": null,
   "metadata": {},
   "outputs": [],
   "source": []
  },
  {
   "cell_type": "markdown",
   "metadata": {},
   "source": [
    "# Binary metrics\n",
    "#### Now we have to go through a somewhat different method to resample the data\n",
    "#### --------------------------------------------------------------------------"
   ]
  },
  {
   "cell_type": "markdown",
   "metadata": {},
   "source": [
    "### Warp CA_S1 to match NWM-CNN"
   ]
  },
  {
   "cell_type": "code",
   "execution_count": 10,
   "metadata": {},
   "outputs": [
    {
     "name": "stdout",
     "output_type": "stream",
     "text": [
      "This should have made the file: /mnt/d/2023_nwm_cnn_california/images_for_sacramento_stats/CA_S1_20230106_20230114_masked_resampled250mX100_18020104.tif\n"
     ]
    }
   ],
   "source": [
    "in_file = f\"{STATS_DIR}CA_S1_20230106_20230114_masked.tif\"\n",
    "in_profile = rasterio.open(in_file).profile\n",
    "target_file = f\"{STATS_DIR}NWM-CNN_20230111_clipped_18020104.tif\"\n",
    "out_profile = rasterio.open(target_file).profile\n",
    "out_profile['dtype'] = \"float32\"\n",
    "north, west, south, east = 39.7770301587301631, -122.5135134490238613, 38.6947335675675674, -121.6148633188720112, \n",
    "bbox = [west, south, east, north]\n",
    "resolution_m = 250\n",
    "target_res = resolution_m / 111000  # 250m -> degrees\n",
    "\n",
    "warped_tif = warp_image(\n",
    "    tif_list=[in_file],\n",
    "    dst_bounds=bbox,\n",
    "    dst_crs=4269,\n",
    "    res=target_res,\n",
    "    resampling=Resampling.average,\n",
    "    src_nodata=0,\n",
    "    dst_nodata=0,\n",
    "    profile=out_profile,\n",
    "    deflate_compression=False,\n",
    "    output_dir=f\"{STATS_DIR}\",\n",
    ")\n",
    "print(f\"This should have made the file: {STATS_DIR}CA_S1_20230106_20230114_masked_resampled250mX100_18020104.tif\")"
   ]
  },
  {
   "cell_type": "markdown",
   "metadata": {},
   "source": [
    "### Warp HAND to match CA_S1"
   ]
  },
  {
   "cell_type": "code",
   "execution_count": 11,
   "metadata": {},
   "outputs": [
    {
     "name": "stdout",
     "output_type": "stream",
     "text": [
      "This should have made the file /mnt/d/2023_nwm_cnn_california/images_for_sacramento_stats/NWM-HAND_180201_20230106-13_max_depth_binary100_clip.nodata0_max_481x399_res0.0023x0.0023.tif\n"
     ]
    }
   ],
   "source": [
    "in_file = f\"{STATS_DIR}NWM-HAND_180201_20230106-13_max_depth_binary100_clip.tif\"\n",
    "in_profile = rasterio.open(in_file).profile\n",
    "target_file = f\"{STATS_DIR}CA_S1_20230106_20230114_masked_resampled250mX100_18020104.tif\"\n",
    "out_profile = rasterio.open(target_file).profile\n",
    "out_profile['dtype'] = \"float32\"\n",
    "north, west, south, east = 39.7770301587301631, -122.5135134490238613, 38.6947335675675674, -121.6148633188720112, \n",
    "bbox = [west, south, east, north]\n",
    "resolution_m = 250\n",
    "target_res = resolution_m / 111000  # 250m -> degrees\n",
    "\n",
    "warped_tif = warp_image(\n",
    "    tif_list=[in_file],\n",
    "    dst_bounds=bbox,\n",
    "    dst_crs=4269,\n",
    "    res=target_res,\n",
    "    resampling=Resampling.max,\n",
    "    src_nodata=0,\n",
    "    dst_nodata=0,\n",
    "    profile=out_profile,\n",
    "    deflate_compression=False,\n",
    "    output_dir=f\"{STATS_DIR}\",\n",
    ")\n",
    "print(f\"This should have made the file {STATS_DIR}NWM-HAND_180201_20230106-13_max_depth_binary100_clip.nodata0_max_481x399_res0.0023x0.0023.tif\")"
   ]
  },
  {
   "cell_type": "markdown",
   "metadata": {},
   "source": [
    "### Calculate the F1 score, including precision and recall"
   ]
  },
  {
   "cell_type": "code",
   "execution_count": 12,
   "metadata": {},
   "outputs": [
    {
     "name": "stdout",
     "output_type": "stream",
     "text": [
      "NWM-CNN - Precision: 0.60, Recall: 0.94, F1 Score: 0.73\n",
      "NWM-HAND - Precision: 0.45, Recall: 0.25, F1 Score: 0.32\n"
     ]
    }
   ],
   "source": [
    "def read_raster_values(raster_file, nodata_value=None):\n",
    "    \"\"\"Read raster values and remove nodata values.\"\"\"\n",
    "    with rasterio.open(raster_file) as src:\n",
    "        data = src.read(1)\n",
    "    return data\n",
    "\n",
    "def calculate_metrics(data1, data2, pred_threshold, true_threshold):\n",
    "    true_labels = np.where(data2 > true_threshold, 1, 0)\n",
    "    predicted_labels = np.where(data1 > pred_threshold, 1, 0)\n",
    "\n",
    "    TP = np.sum((predicted_labels == 1) & (true_labels == 1))\n",
    "    FP = np.sum((predicted_labels == 1) & (true_labels == 0))\n",
    "    FN = np.sum((predicted_labels == 0) & (true_labels == 1))\n",
    "\n",
    "    precision = TP / (TP + FP) if TP + FP > 0 else 0\n",
    "    recall = TP / (TP + FN) if TP + FN > 0 else 0\n",
    "    f1 = 2 * (precision * recall) / (precision + recall) if precision + recall > 0 else 0\n",
    "\n",
    "    return precision, recall, f1\n",
    "\n",
    "# Read raster data for both models\n",
    "data1_cnn = read_raster_values(f\"{STATS_DIR}NWM-CNN_20230111_clipped_18020104.tif\")\n",
    "data1_hand = read_raster_values(f\"{STATS_DIR}NWM-HAND_180201_20230106-13_max_depth_binary100_clip.nodata0_max_481x399_res0.0023x0.0023.tif\")\n",
    "data2 = read_raster_values(f\"{STATS_DIR}CA_S1_20230106_20230114_masked_resampled250mX100_18020104.tif\")\n",
    "\n",
    "# Set the thresholds\n",
    "true_threshold = 1\n",
    "pred_threshold = 1\n",
    "\n",
    "# Calculate metrics for NWM-CNN\n",
    "precision_cnn, recall_cnn, f1_cnn = calculate_metrics(data1_cnn, data2, pred_threshold, true_threshold)\n",
    "print(f\"NWM-CNN - Precision: {precision_cnn:0.2f}, Recall: {recall_cnn:0.2f}, F1 Score: {f1_cnn:0.2f}\")\n",
    "\n",
    "# Calculate metrics for NWM-HAND\n",
    "precision_hand, recall_hand, f1_hand = calculate_metrics(data1_hand, data2, pred_threshold, true_threshold)\n",
    "print(f\"NWM-HAND - Precision: {precision_hand:0.2f}, Recall: {recall_hand:0.2f}, F1 Score: {f1_hand:0.2f}\")\n",
    "\n"
   ]
  },
  {
   "cell_type": "markdown",
   "metadata": {},
   "source": [
    "### Calculate FAR, CSI and HAND"
   ]
  },
  {
   "cell_type": "code",
   "execution_count": 13,
   "metadata": {},
   "outputs": [
    {
     "name": "stdout",
     "output_type": "stream",
     "text": [
      "NWM-CNN - HR: 0.94, FAR: 0.40, CSI: 0.58, EB: 1.57\n",
      "NWM-HAND - HR: 0.25, FAR: 0.55, CSI: 0.19, EB: 0.56\n"
     ]
    }
   ],
   "source": [
    "def read_raster_values(raster_file, nodata_value=None):\n",
    "    \"\"\"Read raster values and remove nodata values.\"\"\"\n",
    "    with rasterio.open(raster_file) as src:\n",
    "        data = src.read(1)\n",
    "    return data\n",
    "\n",
    "def calculate_metrics(data1, data2, pred_threshold, true_threshold):\n",
    "    true_labels = np.where(data2 >= true_threshold, 1, 0)\n",
    "    predicted_labels = np.where(data1 > pred_threshold, 1, 0)\n",
    "\n",
    "    TP = np.sum((predicted_labels == 1) & (true_labels == 1))\n",
    "    FP = np.sum((predicted_labels == 1) & (true_labels == 0))\n",
    "    FN = np.sum((predicted_labels == 0) & (true_labels == 1))\n",
    "    TN = np.sum((predicted_labels == 0) & (true_labels == 0))\n",
    "\n",
    "    HR = TP / (TP + FN) if TP + FN > 0 else 0\n",
    "    FAR = FP / (TP + FP) if TP + FP > 0 else 0\n",
    "    CSI = TP / (TP + FN + FP) if TP + FN + FP > 0 else 0\n",
    "    EB = (TP + FP) / (TP + FN) if TP + FN > 0 else 0\n",
    "\n",
    "    return HR, FAR, CSI, EB\n",
    "\n",
    "# Read raster data for both models\n",
    "data1_cnn = read_raster_values(f\"{STATS_DIR}NWM-CNN_20230111_clipped_18020104.tif\")\n",
    "data1_hand = read_raster_values(f\"{STATS_DIR}NWM-HAND_180201_20230106-13_max_depth_binary100_clip.nodata0_max_481x399_res0.0023x0.0023.tif\")\n",
    "data2 = read_raster_values(f\"{STATS_DIR}CA_S1_20230106_20230114_masked_resampled250mX100_18020104.tif\")\n",
    "\n",
    "# Set the thresholds\n",
    "true_threshold = 1\n",
    "pred_threshold = 1\n",
    "\n",
    "# Calculate metrics for NWM-CNN\n",
    "HR_cnn, FAR_cnn, CSI_cnn, EB_cnn = calculate_metrics(data1_cnn, data2, pred_threshold, true_threshold)\n",
    "print(f\"NWM-CNN - HR: {HR_cnn:0.2f}, FAR: {FAR_cnn:0.2f}, CSI: {CSI_cnn:0.2f}, EB: {EB_cnn:0.2f}\")\n",
    "\n",
    "# Calculate metrics for NWM-HAND\n",
    "HR_hand, FAR_hand, CSI_hand, EB_hand = calculate_metrics(data1_hand, data2, pred_threshold, true_threshold)\n",
    "print(f\"NWM-HAND - HR: {HR_hand:0.2f}, FAR: {FAR_hand:0.2f}, CSI: {CSI_hand:0.2f}, EB: {EB_hand:0.2f}\")\n"
   ]
  },
  {
   "cell_type": "code",
   "execution_count": 14,
   "metadata": {},
   "outputs": [
    {
     "name": "stdout",
     "output_type": "stream",
     "text": [
      "NWM-CNN - HR: 0.94, FAR: 0.40, CSI: 0.58, EB: 1.57\n",
      "NWM-HAND - HR: 0.25, FAR: 0.55, CSI: 0.19, EB: 0.56\n"
     ]
    }
   ],
   "source": [
    "import rasterio\n",
    "import geopandas as gpd\n",
    "from rasterio.mask import mask\n",
    "\n",
    "def read_raster_values(raster_file, shapefile):\n",
    "    \"\"\"Read raster values and mask with shapefile.\"\"\"\n",
    "    with rasterio.open(raster_file) as src:\n",
    "        # Read the shapefile\n",
    "        gdf = gpd.read_file(shapefile)\n",
    "        # Ensure the shapefile and raster have the same CRS\n",
    "        gdf = gdf.to_crs(src.crs)\n",
    "        # Mask the raster with the shapefile\n",
    "        out_image, out_transform = mask(src, gdf.geometry, crop=True)\n",
    "        data = out_image[0]\n",
    "    return data\n",
    "\n",
    "# Paths to your data\n",
    "shapefile_path = f\"{LOC_DATA_DIR}shapefile/HUC8_18020104_bbox.shp\"\n",
    "data1_cnn_path = f\"{STATS_DIR}NWM-CNN_20230111_clipped_18020104.tif\"\n",
    "data1_hand_path = f\"{STATS_DIR}NWM-HAND_180201_20230106-13_max_depth_binary100_clip.nodata0_max_481x399_res0.0023x0.0023.tif\"\n",
    "data2_path = f\"{STATS_DIR}CA_S1_20230106_20230114_masked_resampled250mX100_18020104.tif\"\n",
    "\n",
    "# Read and mask raster data for both models\n",
    "data1_cnn = read_raster_values(data1_cnn_path, shapefile_path)\n",
    "data1_hand = read_raster_values(data1_hand_path, shapefile_path)\n",
    "data2 = read_raster_values(data2_path, shapefile_path)\n",
    "\n",
    "# Set the thresholds\n",
    "true_threshold = 1\n",
    "pred_threshold = 1\n",
    "\n",
    "# Calculate metrics for NWM-CNN\n",
    "HR_cnn, FAR_cnn, CSI_cnn, EB_cnn = calculate_metrics(data1_cnn, data2, pred_threshold, true_threshold)\n",
    "print(f\"NWM-CNN - HR: {HR_cnn:0.2f}, FAR: {FAR_cnn:0.2f}, CSI: {CSI_cnn:0.2f}, EB: {EB_cnn:0.2f}\")\n",
    "\n",
    "# Calculate metrics for NWM-HAND\n",
    "HR_hand, FAR_hand, CSI_hand, EB_hand = calculate_metrics(data1_hand, data2, pred_threshold, true_threshold)\n",
    "print(f\"NWM-HAND - HR: {HR_hand:0.2f}, FAR: {FAR_hand:0.2f}, CSI: {CSI_hand:0.2f}, EB: {EB_hand:0.2f}\")\n",
    "\n"
   ]
  },
  {
   "cell_type": "code",
   "execution_count": 15,
   "metadata": {},
   "outputs": [
    {
     "name": "stdout",
     "output_type": "stream",
     "text": [
      "\n",
      "\\begin{table}[h]\n",
      "\\centering\n",
      "\\begin{tabular}{|p{4.4cm}|c|c|}\n",
      "    \\hline\n",
      "    \\bf{Metric} & \\bf{NWM-CNN} & \\bf{NWM-HAND} \\\\\n",
      "    \\hline\n",
      "    RMSE All pixels & 25\\% & 35\\% \\\\\n",
      "    RMSE Ignoring pixels with pre-event water & 21\\% & 28\\% \\\\\n",
      "    RMSE Ignoring pixels with pre-event water and dry & 22\\% & 51\\%\\\\\n",
      "    \\hline\n",
      "    & Max Min Mean Med & Max Min Mean Med \\\\\n",
      "    \\hline\n",
      "    Precision* & 0.60 & 0.45 \\\\\n",
      "    Recall* & 0.94 & 0.25 \\\\\n",
      "    F1* & 0.73 & 0.32 \\\\\n",
      "    Critical success index* & 0.58 & 0.19 \\\\\n",
      "    False Alarm Ratio* & 0.40 & 0.55 \\\\\n",
      "    Error Bias* & 1.57 & 0.56 \\\\\n",
      "    \\hline\n",
      "\\end{tabular}\n",
      "\\end{table}\n",
      "\n"
     ]
    }
   ],
   "source": [
    "# Create the LaTeX table\n",
    "latex_table = f\"\"\"\n",
    "\\\\begin{{table}}[h]\n",
    "\\\\centering\n",
    "\\\\begin{{tabular}}{{|p{{4.4cm}}|c|c|}}\n",
    "    \\\\hline\n",
    "    \\\\bf{{Metric}} & \\\\bf{{NWM-CNN}} & \\\\bf{{NWM-HAND}} \\\\\\\\\n",
    "    \\\\hline\n",
    "    RMSE All pixels & {rmse_v2_all:.0f}\\\\% & {rmse_hand_all:.0f}\\\\% \\\\\\\\\n",
    "    RMSE Ignoring pixels with pre-event water & {rmse_v2_pre:.0f}\\\\% & {rmse_hand_pre:.0f}\\\\% \\\\\\\\\n",
    "    RMSE Ignoring pixels with pre-event water and dry & {rmse_v2_pre_dry:.0f}\\\\% & {rmse_hand_pre_dry:.0f}\\\\%\\\\\\\\\n",
    "    \\\\hline\n",
    "    & Max Min Mean Med & Max Min Mean Med \\\\\\\\\n",
    "    \\\\hline\n",
    "    Precision* & {precision_cnn:.2f} & {precision_hand:.2f} \\\\\\\\\n",
    "    Recall* & {recall_cnn:.2f} & {recall_hand:.2f} \\\\\\\\\n",
    "    F1* & {f1_cnn:.2f} & {f1_hand:.2f} \\\\\\\\\n",
    "    Critical success index* & {CSI_cnn:.2f} & {CSI_hand:.2f} \\\\\\\\\n",
    "    False Alarm Ratio* & {FAR_cnn:.2f} & {FAR_hand:.2f} \\\\\\\\\n",
    "    Error Bias* & {EB_cnn:.2f} & {EB_hand:.2f} \\\\\\\\\n",
    "    \\\\hline\n",
    "\\\\end{{tabular}}\n",
    "\\\\end{{table}}\n",
    "\"\"\"\n",
    "\n",
    "print(latex_table)"
   ]
  },
  {
   "cell_type": "code",
   "execution_count": 16,
   "metadata": {},
   "outputs": [
    {
     "data": {
      "image/png": "[encoded data removed]",
      "text/plain": [
       "<Figure size 396x288 with 1 Axes>"
      ]
     },
     "metadata": {
      "needs_background": "light"
     },
     "output_type": "display_data"
    }
   ],
   "source": [
    "\n",
    "def read_raster_values(raster_file, shapefile):\n",
    "    \"\"\"Read raster values and mask with shapefile.\"\"\"\n",
    "    with rasterio.open(raster_file) as src:\n",
    "        # Read the shapefile\n",
    "        gdf = gpd.read_file(shapefile)\n",
    "        # Ensure the shapefile and raster have the same CRS\n",
    "        gdf = gdf.to_crs(src.crs)\n",
    "        # Mask the raster with the shapefile\n",
    "        out_image, out_transform = mask(src, gdf.geometry, crop=True)\n",
    "        data = out_image[0]\n",
    "    return data\n",
    "\n",
    "def calculate_metrics(data1, data2, pred_threshold, true_threshold):\n",
    "    true_labels = np.where(data2 >= true_threshold/100, 1, 0)\n",
    "    predicted_labels = np.where(data1 > pred_threshold, 1, 0)\n",
    "\n",
    "    TP = np.sum((predicted_labels == 1) & (true_labels == 1))\n",
    "    FP = np.sum((predicted_labels == 1) & (true_labels == 0))\n",
    "    FN = np.sum((predicted_labels == 0) & (true_labels == 1))\n",
    "    TN = np.sum((predicted_labels == 0) & (true_labels == 0))\n",
    "\n",
    "    precision = TP / (TP + FP) if TP + FP > 0 else 0\n",
    "    recall = TP / (TP + FN) if TP + FN > 0 else 0\n",
    "    f1 = 2 * (precision * recall) / (precision + recall) if precision + recall > 0 else 0\n",
    "    HR = TP / (TP + FN) if TP + FN > 0 else 0\n",
    "    FAR = FP / (TP + FP) if TP + FP > 0 else 0\n",
    "    CSI = TP / (TP + FN + FP) if TP + FN + FP > 0 else 0\n",
    "    EB = (TP + FP) / (TP + FN) if TP + FN > 0 else 0\n",
    "\n",
    "    return precision, recall, f1, HR, FAR, CSI, EB\n",
    "\n",
    "# Paths to your data\n",
    "shapefile_path = f\"{LOC_DATA_DIR}shapefile/HUC8_18020104_bbox.shp\"\n",
    "data1_cnn_path = f\"{STATS_DIR}NWM-CNN_20230106_20230114.tif\"\n",
    "data1_hand_path = f\"{STATS_DIR}NWM-HAND.tif\"\n",
    "data2_path = f\"{STATS_DIR}CA_S1.tif\"\n",
    "\n",
    "# Read and mask raster data for both models\n",
    "data1_cnn = read_raster_values(data1_cnn_path, shapefile_path)\n",
    "data1_hand = read_raster_values(data1_hand_path, shapefile_path)\n",
    "data2 = read_raster_values(data2_path, shapefile_path)\n",
    "\n",
    "# Read raster data\n",
    "metrics = ['Precision', 'Recall', 'F1', 'FAR', 'CSI', 'EB']\n",
    "colors = ['b', 'r', 'g', 'c', 'm', 'y', 'k']  # Define colors for each metric\n",
    "linestyle = '-'\n",
    "lineweight = 1.5\n",
    "\n",
    "plt.figure(figsize=(5.5, 4))\n",
    "\n",
    "f1_scores_cnn = []\n",
    "f1_scores_hand = []\n",
    "\n",
    "for metric, color in zip(metrics, colors):\n",
    "    metric_list_cnn = []\n",
    "    metric_list_hand = []\n",
    "\n",
    "    for _threshold in range(1, 100):\n",
    "        precision_cnn, recall_cnn, f1_cnn, HR_cnn, FAR_cnn, CSI_cnn, EB_cnn = calculate_metrics(data1_cnn, data2, _threshold, _threshold)\n",
    "        precision_hand, recall_hand, f1_hand, HR_hand, FAR_hand, CSI_hand, EB_hand = calculate_metrics(data1_hand, data2, _threshold, _threshold)\n",
    "\n",
    "        if metric == 'Precision':\n",
    "            metric_list_cnn.append(precision_cnn)\n",
    "            metric_list_hand.append(precision_hand)\n",
    "        elif metric == 'Recall':\n",
    "            metric_list_cnn.append(recall_cnn)\n",
    "            metric_list_hand.append(recall_hand)\n",
    "        elif metric == 'F1':\n",
    "            metric_list_cnn.append(f1_cnn)\n",
    "            metric_list_hand.append(f1_hand)\n",
    "            f1_scores_cnn.append(f1_cnn)  # Store F1 scores for finding the max\n",
    "            f1_scores_hand.append(f1_hand)  # Store F1 scores for finding the max\n",
    "        elif metric == 'HR':\n",
    "            metric_list_cnn.append(HR_cnn)\n",
    "            metric_list_hand.append(HR_hand)\n",
    "        elif metric == 'FAR':\n",
    "            metric_list_cnn.append(FAR_cnn)\n",
    "            metric_list_hand.append(FAR_hand)\n",
    "        elif metric == 'CSI':\n",
    "            metric_list_cnn.append(CSI_cnn)\n",
    "            metric_list_hand.append(CSI_hand)\n",
    "        elif metric == 'EB':\n",
    "            metric_list_cnn.append(EB_cnn)\n",
    "            metric_list_hand.append(EB_hand)\n",
    "\n",
    "    plt.plot(list(range(1, 100)), metric_list_cnn, color=color, linestyle=\"-\", lw=lineweight, label=f\"{metric} CNN\")\n",
    "    plt.plot(list(range(1, 100)), metric_list_hand, color=color, linestyle=\"--\", lw=lineweight, label=f\"{metric} HAND\")\n",
    "\n",
    "# Find the threshold for the maximum F1 score\n",
    "max_cnn_f1_threshold = np.argmax(f1_scores_cnn) + 1  # Adding 1 because range starts from 1\n",
    "max_cnn_f1_value = max(f1_scores_cnn)\n",
    "max_hand_f1_threshold = np.argmax(f1_scores_hand) + 1  # Adding 1 because range starts from 1\n",
    "max_hand_f1_value = max(f1_scores_hand)\n",
    "\n",
    "# Custom legend for metrics\n",
    "legend_elements = [mlines.Line2D([0], [0], color=color, lw=lineweight, label=metric) for metric, color in zip(metrics, colors)]\n",
    "\n",
    "# Add entries for CNN and HAND\n",
    "legend_elements.append(mlines.Line2D([0], [0], color='black', lw=lineweight, linestyle='-', label='CNN'))\n",
    "legend_elements.append(mlines.Line2D([0], [0], color='black', lw=lineweight, linestyle='--', label='HAND'))\n",
    "\n",
    "# Creating the legend with custom entries\n",
    "plt.legend(handles=legend_elements, loc='upper center', bbox_to_anchor=(0.5, -0.25), ncol=4)\n",
    "\n",
    "plt.ylim([0, 1])\n",
    "plt.xlabel(\"Threshold to binarize inundation\")\n",
    "plt.ylabel(\"Metric Value\")\n",
    "plt.title(\"Performance Metrics across Thresholds\")\n",
    "plt.tight_layout()\n",
    "plt.savefig(\"binary_curves_hand_cnn.png\", dpi=600)\n",
    "plt.show()\n",
    "plt.close()\n"
   ]
  },
  {
   "cell_type": "code",
   "execution_count": null,
   "metadata": {},
   "outputs": [],
   "source": []
  }
 ],
 "metadata": {
  "kernelspec": {
   "display_name": "Python 3",
   "language": "python",
   "name": "python3"
  },
  "language_info": {
   "codemirror_mode": {
    "name": "ipython",
    "version": 3
   },
   "file_extension": ".py",
   "mimetype": "text/x-python",
   "name": "python",
   "nbconvert_exporter": "python",
   "pygments_lexer": "ipython3",
   "version": "3.8.18"
  }
 },
 "nbformat": 4,
 "nbformat_minor": 2
}

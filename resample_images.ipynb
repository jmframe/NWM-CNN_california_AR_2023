{
 "cells": [
  {
   "cell_type": "code",
   "execution_count": 1,
   "metadata": {},
   "outputs": [],
   "source": [
    "import numpy as np\n",
    "import rasterio\n",
    "from rasterio.warp import calculate_default_transform, reproject\n",
    "from resample_tools import warp_image\n",
    "from rasterio.warp import Resampling\n",
    "import matplotlib.pyplot as plt\n",
    "import matplotlib.lines as mlines\n",
    "\n",
    "#### User needs to modify this line to correspond to their local data, \n",
    "#### which can be downloaded from Hydroshare:\n",
    "#### https://www.hydroshare.org/resource/8b76906c4b604c458fbcb5ea7c8c0be7\n",
    "LOC_DATA_DIR = \"./data/\"\n",
    "\n",
    "STATS_DIR = f\"{LOC_DATA_DIR}images_for_sacramento_stats/\""
   ]
  },
  {
   "cell_type": "markdown",
   "metadata": {},
   "source": [
    "# Sentinel-2, NWM-CNN, HAND, global surface water, and pre-event-water\n",
    "We have five files to deal with:\n",
    "  - `CA_S1_20230106_20230114_masked_clip_buffer`. This file is the \"ground truth\" that we'll use to compare the model performance. \n",
    "  - `GSW_binary_gt30`. This is the global surface water that we want to ignore in our calculations.\n",
    "  - `NWM-HAND_180201_20230106-13_max_depth`. This is the HAND flood map we are using as a baseline for our comparison.\n",
    "  - `s2_max_extent_20221101_20221215`. This is a pre-event surface water extent map.\n",
    "  - `NWM-CNN_20230110_clipped_18020104`. This is our model flood map."
   ]
  },
  {
   "cell_type": "markdown",
   "metadata": {},
   "source": [
    "# Make CA_S1 match the NWM-CNN extent, projection and resolution\n",
    "In order to calculate an RMSE we need to have the rasters match.  \n",
    "The CA_S1 map is binary, so we'll want to resample it such that the resulting map has values between 0 and 100, just like the V2 output. "
   ]
  },
  {
   "cell_type": "code",
   "execution_count": 2,
   "metadata": {},
   "outputs": [],
   "source": [
    "# Paths for your files\n",
    "binary_raster_path = f\"{STATS_DIR}CA_S1_20230106_20230114_masked_clip_buffer.tif\"\n",
    "target_raster_path = f\"{STATS_DIR}NWM-CNN_20230106_20230114.tif\"\n",
    "output_path = f\"{STATS_DIR}CA_S1.tif\"\n",
    "\n",
    "# Load target raster's properties\n",
    "with rasterio.open(target_raster_path) as target:\n",
    "    target_transform = target.transform\n",
    "    target_crs = target.crs\n",
    "    target_shape = target.shape\n",
    "\n",
    "# Load binary raster\n",
    "with rasterio.open(binary_raster_path) as src:\n",
    "\n",
    "    # Calculate the transformation between source and target\n",
    "    transform, width, height = calculate_default_transform(\n",
    "        src.crs, target_crs, src.width, src.height, *src.bounds,\n",
    "        dst_width=target_shape[1], dst_height=target_shape[0]\n",
    "    )\n",
    "\n",
    "    # Create a new array with target dimensions to store results\n",
    "    resampled_array = np.empty(shape=target_shape, dtype=np.float32)\n",
    "\n",
    "    # Resample the binary raster using the average technique\n",
    "    reproject(\n",
    "        source=rasterio.band(src, 1),\n",
    "        destination=resampled_array,\n",
    "        src_transform=src.transform,\n",
    "        src_crs=src.crs,\n",
    "        dst_transform=target_transform,\n",
    "        dst_crs=target_crs,\n",
    "        resampling=Resampling.average\n",
    "    )\n",
    "\n",
    "    # Adjust values to represent percentage\n",
    "    resampled_array = resampled_array * 100  # assuming original True values are 1, else adjust this factor\n",
    "\n",
    "    # Save the result to a new raster\n",
    "    with rasterio.open(output_path, 'w', driver='GTiff', height=target_shape[0], \n",
    "                       width=target_shape[1], count=1, dtype=np.float32, \n",
    "                       crs=target_crs, transform=target_transform) as dest:\n",
    "        dest.write(resampled_array, 1)\n"
   ]
  },
  {
   "cell_type": "markdown",
   "metadata": {},
   "source": [
    "# Make GSW match the extent and resolution of the NWM-CNN and CA_S1\n",
    "This map is binary, and we want a resulting binary map at the end"
   ]
  },
  {
   "cell_type": "code",
   "execution_count": 3,
   "metadata": {},
   "outputs": [],
   "source": [
    "def resample_binary_to_match(source_path, target_path, output_path):\n",
    "    \"\"\"Resample a binary raster to match the extent, projection, and resolution of another raster.\"\"\"\n",
    "    \n",
    "    with rasterio.open(source_path) as src, rasterio.open(target_path) as target:\n",
    "        # Copy and update the metadata from the target\n",
    "        metadata = target.meta.copy()\n",
    "        \n",
    "        # Update data type to be int16 for the binary output\n",
    "        metadata['dtype'] = 'int16'\n",
    "        \n",
    "        # Create an empty array with the shape of the target raster\n",
    "        destination = np.empty_like(target.read(1), dtype='int16')\n",
    "\n",
    "        # Perform the resampling\n",
    "        reproject(\n",
    "            source=src.read(1),\n",
    "            destination=destination,\n",
    "            src_transform=src.transform,\n",
    "            src_crs=src.crs,\n",
    "            dst_transform=target.transform,\n",
    "            dst_crs=target.crs,\n",
    "            resampling=Resampling.average\n",
    "        )\n",
    "\n",
    "        # Threshold the resampled data to produce a binary raster\n",
    "        # You can adjust the threshold if needed\n",
    "        destination[destination >= 0.5] = 1\n",
    "        destination[destination < 0.5] = 0\n",
    "\n",
    "        # Save the result to a new file\n",
    "        with rasterio.open(output_path, 'w', **metadata) as dest:\n",
    "            dest.write(destination, 1)\n",
    "\n",
    "# Example usage:\n",
    "source_binary_path = f\"{STATS_DIR}GSW_binary_gt30.tif\"\n",
    "target_raster_path = f\"{STATS_DIR}NWM-CNN_20230106_20230114.tif\"\n",
    "output_path = f\"{STATS_DIR}GSW.tif\"\n",
    "resample_binary_to_match(source_binary_path, target_raster_path, output_path)\n",
    "source_binary_path = f\"{STATS_DIR}s2_max_extent_20221101_20221215.tif\"\n",
    "target_raster_path = f\"{STATS_DIR}NWM-CNN_20230106_20230114.tif\"\n",
    "output_path = f\"{STATS_DIR}s2_pre_event.tif\"\n",
    "resample_binary_to_match(source_binary_path, target_raster_path, output_path)"
   ]
  },
  {
   "cell_type": "markdown",
   "metadata": {},
   "source": [
    "# Resample HAND\n",
    "Raster called \"HAND_180201_20230106-13_max_depth.tif\" which has values from 0 to inf, and we need to make it match in resolution and extent a raster called \"V2_20230110_clipped_18020104.tif\", which has pixel values from 0 to 100. We need the raster \"HAND_180201_20230106-13_max_depth.tif\" to be resampled such that any pixel value above zero counts towards a percentage of the resampled pixel, such that the final pixel value represents the percentage of original pixels above zero that would be found within the final pixel extent"
   ]
  },
  {
   "cell_type": "code",
   "execution_count": 4,
   "metadata": {},
   "outputs": [
    {
     "name": "stdout",
     "output_type": "stream",
     "text": [
      "Resampled raster saved to: ./data/images_for_sacramento_stats/NWM-HAND.tif\n"
     ]
    }
   ],
   "source": [
    "def resample_to_match(source_path, target_path, output_path):\n",
    "    \"\"\"Resample source raster to match resolution and extent of the target raster.\"\"\"\n",
    "    \n",
    "    # Open the target raster to get its transform and dimensions\n",
    "    with rasterio.open(target_path) as target:\n",
    "        target_transform = target.transform\n",
    "        target_crs = target.crs\n",
    "        target_width = target.width\n",
    "        target_height = target.height\n",
    "    \n",
    "    # Open the source raster, treat no data values as zeros, and binarize\n",
    "    with rasterio.open(source_path) as src:\n",
    "        nodata_val = src.nodata  # get the no data value\n",
    "        src_data = src.read(1)\n",
    "        \n",
    "        # Treat nodata values as zeros\n",
    "        src_data[np.isnan(src_data)] = 0  # If nodata is represented as NaN\n",
    "        if nodata_val is not None:\n",
    "            src_data[src_data == nodata_val] = 0\n",
    "        \n",
    "        binary_data = np.where(src_data > 0, 1, 0).astype(np.float32)\n",
    "        \n",
    "        # Create an array for the resampled data\n",
    "        resampled_data = np.empty((target_height, target_width), dtype=np.float32)\n",
    "        \n",
    "        # Resample\n",
    "        reproject(\n",
    "            source=binary_data,\n",
    "            destination=resampled_data,\n",
    "            src_transform=src.transform,\n",
    "            src_crs=src.crs,\n",
    "            dst_transform=target_transform,\n",
    "            dst_crs=target_crs,\n",
    "            resampling=Resampling.average\n",
    "        )\n",
    "        \n",
    "        # Convert fraction to percentage\n",
    "        resampled_data *= 100\n",
    "\n",
    "    # Write out the resampled data\n",
    "    with rasterio.open(output_path, 'w', driver='GTiff', width=target_width, height=target_height, \n",
    "                       count=1, dtype=np.float32, crs=target_crs, transform=target_transform) as dst:\n",
    "        dst.write(resampled_data, 1)\n",
    "\n",
    "    return output_path\n",
    "\n",
    "source_raster = f\"{STATS_DIR}NWM-HAND_180201_20230106-13_max_depth_clip.tif\"\n",
    "target_raster = f\"{STATS_DIR}NWM-CNN_20230106_20230114.tif\"\n",
    "output_path = f\"{STATS_DIR}NWM-HAND.tif\"\n",
    "output = resample_to_match(source_raster, target_raster, output_path)\n",
    "print(f\"Resampled raster saved to: {output}\")\n"
   ]
  },
  {
   "cell_type": "markdown",
   "metadata": {},
   "source": [
    "# Binary metrics\n",
    "#### Now we have to go through a somewhat different method to resample the data\n",
    "#### --------------------------------------------------------------------------"
   ]
  },
  {
   "cell_type": "markdown",
   "metadata": {},
   "source": [
    "### Warp CA_S1 to match NWM-CNN"
   ]
  },
  {
   "cell_type": "code",
   "execution_count": 5,
   "metadata": {},
   "outputs": [
    {
     "name": "stdout",
     "output_type": "stream",
     "text": [
      "This should have made the file: ./data/images_for_sacramento_stats/CA_S1_20230106_20230114_masked_resampled250mX100_18020104.tif\n"
     ]
    }
   ],
   "source": [
    "in_file = f\"{STATS_DIR}CA_S1_20230106_20230114_masked.tif\"\n",
    "in_profile = rasterio.open(in_file).profile\n",
    "target_file = f\"{STATS_DIR}NWM-CNN_20230111_clipped_18020104.tif\"\n",
    "out_profile = rasterio.open(target_file).profile\n",
    "out_profile['dtype'] = \"float32\"\n",
    "north, west, south, east = 39.7770301587301631, -122.5135134490238613, 38.6947335675675674, -121.6148633188720112, \n",
    "bbox = [west, south, east, north]\n",
    "resolution_m = 250\n",
    "target_res = resolution_m / 111000  # 250m -> degrees\n",
    "\n",
    "warped_tif = warp_image(\n",
    "    tif_list=[in_file],\n",
    "    dst_bounds=bbox,\n",
    "    dst_crs=4269,\n",
    "    res=target_res,\n",
    "    resampling=Resampling.average,\n",
    "    src_nodata=0,\n",
    "    dst_nodata=0,\n",
    "    profile=out_profile,\n",
    "    deflate_compression=False,\n",
    "    output_dir=f\"{STATS_DIR}\",\n",
    ")\n",
    "print(f\"This should have made the file: {STATS_DIR}CA_S1_20230106_20230114_masked_resampled250mX100_18020104.tif\")"
   ]
  },
  {
   "cell_type": "markdown",
   "metadata": {},
   "source": [
    "### Warp HAND to match CA_S1"
   ]
  },
  {
   "cell_type": "code",
   "execution_count": 6,
   "metadata": {},
   "outputs": [
    {
     "name": "stdout",
     "output_type": "stream",
     "text": [
      "This should have made the file ./data/images_for_sacramento_stats/NWM-HAND_180201_20230106-13_max_depth_binary100_clip.nodata0_max_481x399_res0.0023x0.0023.tif\n"
     ]
    }
   ],
   "source": [
    "in_file = f\"{STATS_DIR}NWM-HAND_180201_20230106-13_max_depth_binary100_clip.tif\"\n",
    "in_profile = rasterio.open(in_file).profile\n",
    "target_file = f\"{STATS_DIR}CA_S1_20230106_20230114_masked_resampled250mX100_18020104.tif\"\n",
    "out_profile = rasterio.open(target_file).profile\n",
    "out_profile['dtype'] = \"float32\"\n",
    "north, west, south, east = 39.7770301587301631, -122.5135134490238613, 38.6947335675675674, -121.6148633188720112, \n",
    "bbox = [west, south, east, north]\n",
    "resolution_m = 250\n",
    "target_res = resolution_m / 111000  # 250m -> degrees\n",
    "\n",
    "warped_tif = warp_image(\n",
    "    tif_list=[in_file],\n",
    "    dst_bounds=bbox,\n",
    "    dst_crs=4269,\n",
    "    res=target_res,\n",
    "    resampling=Resampling.max,\n",
    "    src_nodata=0,\n",
    "    dst_nodata=0,\n",
    "    profile=out_profile,\n",
    "    deflate_compression=False,\n",
    "    output_dir=f\"{STATS_DIR}\",\n",
    ")\n",
    "print(f\"This should have made the file {STATS_DIR}NWM-HAND_180201_20230106-13_max_depth_binary100_clip.nodata0_max_481x399_res0.0023x0.0023.tif\")"
   ]
  }
 ],
 "metadata": {
  "kernelspec": {
   "display_name": "Python 3 (ipykernel)",
   "language": "python",
   "name": "python3"
  },
  "language_info": {
   "codemirror_mode": {
    "name": "ipython",
    "version": 3
   },
   "file_extension": ".py",
   "mimetype": "text/x-python",
   "name": "python",
   "nbconvert_exporter": "python",
   "pygments_lexer": "ipython3",
   "version": "3.8.18"
  }
 },
 "nbformat": 4,
 "nbformat_minor": 2
}
